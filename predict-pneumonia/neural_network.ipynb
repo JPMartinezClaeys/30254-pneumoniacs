{
 "cells": [
  {
   "attachments": {},
   "cell_type": "markdown",
   "metadata": {},
   "source": [
    "## Neural Network\n",
    "\n",
    "This jupyter notebook implements the neural network model using convolutional layers"
   ]
  },
  {
   "cell_type": "code",
   "execution_count": 394,
   "metadata": {},
   "outputs": [],
   "source": [
    "#Import libraries\n",
    "from torchvision.io import read_image\n",
    "from torch.utils.data import DataLoader\n",
    "import torchvision.transforms as T\n",
    "import torch \n",
    "import torch.nn as nn # basic building block for neural neteorks\n",
    "import torch.nn.functional as F # import convolution functions like Relu\n",
    "import torch.optim as optim # optimzer\n",
    "from torch.utils.data import WeightedRandomSampler\n",
    "import os\n",
    "from torch.optim.lr_scheduler import ExponentialLR, StepLR\n",
    "from sklearn.metrics import recall_score, accuracy_score, f1_score, confusion_matrix, ConfusionMatrixDisplay, roc_curve\n",
    "import numpy as np\n",
    "from XRayDataset import XRayDataset\n",
    "from dataloader import train_path, test_path, val_path\n",
    "import matplotlib.pylab as plt\n",
    "import copy\n",
    "import random\n",
    "%matplotlib inline"
   ]
  },
  {
   "cell_type": "code",
   "execution_count": 395,
   "metadata": {},
   "outputs": [],
   "source": [
    "random.seed = 123"
   ]
  },
  {
   "cell_type": "code",
   "execution_count": 396,
   "metadata": {},
   "outputs": [],
   "source": [
    "# create CNN class \n",
    "class CustomNeuralNetwork(nn.Module):\n",
    "    def __init__(self):\n",
    "        super().__init__()\n",
    "        # model hyperparameters \n",
    "        self.epochs = 3\n",
    "        self.batch_size = 8 \n",
    "        self.learning = 0.005\n",
    "        self.momentum = 0.9\n",
    "        self.weighted_sample = False\n",
    "        self.lr_decay = True\n",
    "        # define network layers \n",
    "        self.LeNet = nn.Sequential(\n",
    "            nn.Sequential(\n",
    "                nn.Conv2d(1, 6, kernel_size=5, stride=1, padding=0),\n",
    "                nn.BatchNorm2d(6),\n",
    "                nn.ReLU(),\n",
    "                nn.MaxPool2d(kernel_size=2, stride=2)\n",
    "            ),\n",
    "            nn.Sequential(\n",
    "                nn.Conv2d(6, 16, kernel_size=5, stride=1, padding=0),\n",
    "                nn.BatchNorm2d(16),\n",
    "                nn.ReLU(),\n",
    "                nn.MaxPool2d(kernel_size=2, stride=2)\n",
    "            ),\n",
    "            nn.Flatten(),\n",
    "            nn.Linear(16 * 61 * 61, 120),\n",
    "            nn.ReLU(),\n",
    "            nn.Linear(120, 84),\n",
    "            nn.ReLU(),\n",
    "            nn.Linear(84, 2),\n",
    "            nn.ReLU()\n",
    "        )\n",
    "\n",
    "    def forward(self, x):\n",
    "        out = self.LeNet(x)\n",
    "        return out\n"
   ]
  },
  {
   "cell_type": "code",
   "execution_count": 397,
   "metadata": {},
   "outputs": [],
   "source": [
    "# Create model using class \n",
    "model = CustomNeuralNetwork()"
   ]
  },
  {
   "cell_type": "code",
   "execution_count": 398,
   "metadata": {},
   "outputs": [],
   "source": [
    "# Load data \n",
    "resize = T.Compose([\n",
    "            T.ToPILImage(), \n",
    "            T.Grayscale(num_output_channels=1),\n",
    "            T.Resize((int(256), int(256))), # Resize the image to match median ratio using median length, we can try later with smaller length \n",
    "            T.ToTensor()\n",
    "        ])\n",
    "        \n",
    "transforms = T.Compose([\n",
    "    T.ToPILImage(),\n",
    "    T.Grayscale(num_output_channels=1),\n",
    "    T.Resize((256, 256)),\n",
    "    T.RandomSolarize(2, p=0.5),\n",
    "    T.RandomHorizontalFlip(p=0.5),\n",
    "    # # T.RandomRotation(15),\n",
    "    # T.ColorJitter(brightness=0.2, contrast=0.2, saturation=0.2, hue=0.1),\n",
    "    T.ToTensor()\n",
    "])\n",
    "\n",
    "# create Xray dataset class for train, val, test \n",
    "training_data = XRayDataset(train_path, resize)\n",
    "val_data = XRayDataset(val_path, resize)\n",
    "test_data = XRayDataset(test_path, resize)\n",
    "\n",
    "if model.weighted_sample is False: \n",
    "    train_dataloader = DataLoader(training_data, batch_size=model.batch_size, shuffle=True)\n",
    "    val_dataloader = DataLoader(val_data, batch_size=model.batch_size, shuffle=True)\n",
    "    test_dataloader = DataLoader(test_data, batch_size=model.batch_size, shuffle=True)\n",
    "else: \n",
    "    # Create weighted sampler\n",
    "    counts = {'test': {'PNEUMONIA': 390, 'NORMAL': 234},\n",
    "    'train': {'PNEUMONIA': 3875, 'NORMAL': 1341},\n",
    "    'val': {'PNEUMONIA': 8, 'NORMAL': 8}}\n",
    "    # calculate weights and create samplers \n",
    "    train_weights = [1/v for v in counts['train'].values()]\n",
    "    train_sampler = WeightedRandomSampler(weights=train_weights,num_samples=2)\n",
    "    val_weights = [1/v for v in counts['val'].values()]\n",
    "    val_sampler = WeightedRandomSampler(weights=val_weights,num_samples=2)\n",
    "    test_weights = [1/v for v in counts['test'].values()]\n",
    "    test_sampler = WeightedRandomSampler(weights=test_weights,num_samples=2)\n",
    "\n",
    "    train_dataloader = DataLoader(training_data, batch_size=model.batch_size, sampler=train_sampler)\n",
    "    val_dataloader = DataLoader(val_data, batch_size=model.batch_size, sampler=val_sampler)\n",
    "    test_dataloader = DataLoader(test_data, batch_size=model.batch_size, sampler=test_sampler)"
   ]
  },
  {
   "cell_type": "code",
   "execution_count": 399,
   "metadata": {},
   "outputs": [],
   "source": [
    "# Define loss function and optimizer\n",
    "criterion = nn.CrossEntropyLoss() \n",
    "optimizer = optim.SGD(model.parameters(), lr=model.learning, momentum=model.momentum)\n",
    "scheduler_lr = StepLR(optimizer, \n",
    "                   step_size = 4, # Period of learning rate decay\n",
    "                   gamma = 0.5)\n",
    "\n",
    "scheduler_eilr = ExponentialLR(optimizer, \n",
    "                          gamma = 0.5) # Multiplicative factor of learning rate decay."
   ]
  },
  {
   "cell_type": "code",
   "execution_count": 400,
   "metadata": {},
   "outputs": [],
   "source": [
    "# Train and validate the network\n",
    "train_losses = []\n",
    "train_accuracies = []\n",
    "train_recalls = []\n",
    "val_accuracies = []\n",
    "val_recalls = []\n",
    "val_losses = []\n",
    "test_losses = []\n",
    "test_accuracies = []\n",
    "test_recalls = []\n",
    "\n",
    "steps_check_val = 1\n",
    "steps_check_test = model.epochs #Check only once\n",
    "\n",
    "for epoch in range(model.epochs):\n",
    "    # TRAIN\n",
    "    model.train()  # Make sure gradient tracking is on, and do a pass over the data\n",
    "    running_loss = 0.0\n",
    "    y_true = np.array([])\n",
    "    y_predict = np.array([])\n",
    "    for i, data in enumerate(train_dataloader):\n",
    "        inputs, labels = data\n",
    "        optimizer.zero_grad()  # zero the parameter gradients\n",
    "        outputs = model(inputs)  # forward pass\n",
    "        label_dict = {\"PNEUMONIA\": 0, \"NORMAL\": 1}\n",
    "        labels_tensor = torch.tensor([label_dict[label] for label in labels])\n",
    "        loss = criterion(outputs, labels_tensor)  # calculate loss\n",
    "        loss.backward()  # backward pass\n",
    "        optimizer.step()  # update weights\n",
    "        running_loss += loss.item()\n",
    "        y_true = np.concatenate((y_true, labels_tensor.numpy()))\n",
    "        y_pred_batch = np.argmax(outputs.detach().numpy(), axis=1)\n",
    "        y_predict = np.concatenate((y_predict, y_pred_batch))\n",
    "    \n",
    "    epoch_accuracy = accuracy_score(y_true, y_predict)\n",
    "    epoch_recall = recall_score(y_true, y_predict, average='binary')\n",
    "    train_losses.append(running_loss)\n",
    "    train_accuracies.append(epoch_accuracy)\n",
    "    train_recalls.append(epoch_recall)\n",
    "\n",
    "    if model.lr_decay:\n",
    "        scheduler_lr.step()\n",
    "        \n",
    "\n",
    "    #VALIDATION\n",
    "    if (epoch+1) % steps_check_val == 0: \n",
    "        val_running_loss = 0.0\n",
    "        with torch.no_grad(): # don't keep track of the gradients in the validation part\n",
    "            model.eval() \n",
    "            y_true_val = np.array([])\n",
    "            y_predict_val = np.array([])\n",
    "            for i, data in enumerate(val_dataloader):\n",
    "            # get the inputs; data is a list of [inputs, labels]\n",
    "                inputs, labels = data\n",
    "                outputs = model(inputs)  # forward pass\n",
    "                label_dict = {\"PNEUMONIA\": 0, \"NORMAL\": 1}\n",
    "                labels_tensor = torch.tensor([label_dict[label] for label in labels])\n",
    "                y_true_val = np.concatenate((y_true_val, labels_tensor.numpy()))\n",
    "                y_predict_val = np.concatenate((y_predict_val, outputs.argmax(dim=1).numpy()))\n",
    "                val_loss = criterion(outputs, labels_tensor)  # calculate loss\n",
    "                val_running_loss += val_loss.item()\n",
    "\n",
    "            val_epoch_accuracy = accuracy_score(y_predict_val, y_true_val)\n",
    "            val_epoch_recall = recall_score(y_true_val, y_predict_val, average='binary')\n",
    "            val_losses.append(val_running_loss)\n",
    "            val_accuracies.append(val_epoch_accuracy)\n",
    "            val_recalls.append(val_epoch_recall)\n",
    "\n",
    "    #TEST\n",
    "    if (epoch+1) % steps_check_test == 0:\n",
    "        test_running_loss = 0.0\n",
    "        with torch.no_grad():\n",
    "            model.eval()\n",
    "            y_true_test = np.array([])\n",
    "            y_predict_test = np.array([])\n",
    "            for i, data in enumerate(test_dataloader):\n",
    "        # get the inputs; data is a list of [inputs, labels]\n",
    "                inputs, labels = data\n",
    "                outputs = model(inputs)  # forward pass\n",
    "                label_dict = {\"PNEUMONIA\": 0, \"NORMAL\": 1}\n",
    "                labels_tensor = torch.tensor([label_dict[label] for label in labels])\n",
    "                y_true_test = np.concatenate((y_true_test, labels_tensor.numpy()))\n",
    "                y_predict_test = np.concatenate((y_predict_test, outputs.argmax(dim=1).numpy()))\n",
    "                test_loss = criterion(outputs, labels_tensor)  # calculate loss\n",
    "                test_running_loss += val_loss.item()\n",
    "\n",
    "            test_epoch_accuracy = accuracy_score(y_true_test, y_predict_test)\n",
    "            test_epoch_recall = recall_score(y_true_test, y_predict_test, average='binary')\n",
    "            test_losses.append(test_running_loss)\n",
    "            test_accuracies.append(test_epoch_accuracy)\n",
    "            test_recalls.append(test_epoch_recall)"
   ]
  },
  {
   "cell_type": "code",
   "execution_count": 401,
   "metadata": {},
   "outputs": [
    {
     "name": "stdout",
     "output_type": "stream",
     "text": [
      "y_predict [0. 0. 0. ... 0. 0. 0.]\n",
      "y_true [0. 1. 1. ... 0. 0. 1.]\n",
      "[354.2314130961895, 355.5845046043396, 355.5845046043396]\n",
      "Training accuracies [0.7321297877531106, 0.7323737496950475, 0.7323737496950475]\n",
      "Training recalls [0.0, 0.0, 0.0]\n",
      "Training losses [354.2314130961895, 355.5845046043396, 355.5845046043396]\n",
      "Validation accuracies [0.7155172413793104, 0.7155172413793104, 0.7155172413793104]\n",
      "Validation recalls [0.0, 0.0, 0.0]\n",
      "Validation loss [50.59974431991577, 50.59974431991577, 50.59974431991577]\n"
     ]
    }
   ],
   "source": [
    "# y_predict, y_true, train_losses, train_accuracies, train_recalls = train(model)\n",
    "print(\"y_predict\", y_predict)\n",
    "print(\"y_true\", y_true)\n",
    "print(train_losses)\n",
    "print(\"Training accuracies\",train_accuracies)\n",
    "print(\"Training recalls\", train_recalls)\n",
    "print(\"Training losses\", train_losses)\n",
    "\n",
    "print(\"Validation accuracies\",val_accuracies)\n",
    "print(\"Validation recalls\", val_recalls)\n",
    "print(\"Validation loss\", val_losses)"
   ]
  },
  {
   "cell_type": "code",
   "execution_count": 402,
   "metadata": {},
   "outputs": [],
   "source": [
    "# #5. Test model\n",
    "# test_losses = []\n",
    "# test_running_loss = 0.0\n",
    "# test_accuracies = []\n",
    "# test_recalls = []\n",
    "\n",
    "# with torch.no_grad():\n",
    "#     model.eval()\n",
    "#     y_true_test = np.array([])\n",
    "#     y_predict_test = np.array([])\n",
    "#     for i, data in enumerate(test_dataloader):\n",
    "#         # get the inputs; data is a list of [inputs, labels]\n",
    "#         inputs, labels = data\n",
    "#         outputs = model(inputs)  # forward pass\n",
    "#         label_dict = {\"PNEUMONIA\": 0, \"NORMAL\": 1}\n",
    "#         labels_tensor = torch.tensor([label_dict[label] for label in labels])\n",
    "#         y_true_test = np.concatenate((y_true_test, labels_tensor.numpy()))\n",
    "#         y_predict_test = np.concatenate((y_predict_test, outputs.argmax(dim=1).numpy()))\n",
    "#         test_loss = criterion(outputs, labels_tensor)  # calculate loss\n",
    "#         test_running_loss += val_loss.item()\n",
    "\n",
    "#     test_epoch_accuracy = accuracy_score(y_true_test, y_predict_test)\n",
    "#     test_epoch_recall = recall_score(y_true_test, y_predict_test, average='binary')\n",
    "#     test_losses.append(test_running_loss)\n",
    "#     test_accuracies.append(test_epoch_accuracy)\n",
    "#     test_recalls.append(test_epoch_recall)"
   ]
  },
  {
   "cell_type": "code",
   "execution_count": 403,
   "metadata": {},
   "outputs": [
    {
     "name": "stdout",
     "output_type": "stream",
     "text": [
      "test accuracy [0.7272727272727273]\n",
      "test recall [0.0]\n",
      "0.0: 1177\n"
     ]
    }
   ],
   "source": [
    "print(\"test accuracy\", test_accuracies)\n",
    "print(\"test recall\", test_recalls)\n",
    "\n",
    "unique, counts = np.unique(y_predict_test, return_counts=True)\n",
    "\n",
    "# print the unique values and their counts\n",
    "for value, count in zip(unique, counts):\n",
    "    print(f\"{value}: {count}\")\n"
   ]
  },
  {
   "cell_type": "code",
   "execution_count": 404,
   "metadata": {},
   "outputs": [
    {
     "data": {
      "image/png": "[encoded data removed]",
      "text/plain": [
       "<Figure size 1440x720 with 1 Axes>"
      ]
     },
     "metadata": {
      "needs_background": "light"
     },
     "output_type": "display_data"
    }
   ],
   "source": [
    "test_accuracies_list = []\n",
    "val_accuracies_list = []\n",
    "for i in test_accuracies:\n",
    "    if steps_check_test < model.epochs:   \n",
    "        test_item = [i] * steps_check_test\n",
    "    else:\n",
    "        test_item = [i] *  model.epochs\n",
    "    test_accuracies_list.extend(test_item) \n",
    "\n",
    "for i in val_accuracies:\n",
    "    if steps_check_val < model.epochs:   \n",
    "        val_item = [i] * steps_check_val\n",
    "    else:\n",
    "        val_item = [i] *  model.epochs\n",
    "    val_accuracies_list.extend(val_item) \n",
    "\n",
    "epochs = [i for i in range(1,model.epochs+1)]\n",
    "fig, ax = plt.subplots(nrows=1, ncols=1, figsize=(20,10))\n",
    "ax.plot(epochs, train_accuracies, color=\"steelblue\", label= 'Train')\n",
    "ax.plot(epochs, val_accuracies_list, color=\"lightblue\", ls='dashed', label='Validation')\n",
    "ax.plot(epochs, test_accuracies_list, color= \"coral\", ls='dashed', label='Test Mean')\n",
    "ax.set_xticks(epochs)\n",
    "ax.legend(loc=\"lower right\", fontsize=16)\n",
    "ax.set_xlabel(\"Epochs\", fontsize=12)\n",
    "ax.set_ylabel(\"Accuracy\", fontsize=12)\n",
    "plt.show()"
   ]
  },
  {
   "cell_type": "code",
   "execution_count": 405,
   "metadata": {},
   "outputs": [
    {
     "data": {
      "image/png": "[encoded data removed]",
      "text/plain": [
       "<Figure size 1440x720 with 1 Axes>"
      ]
     },
     "metadata": {
      "needs_background": "light"
     },
     "output_type": "display_data"
    }
   ],
   "source": [
    "test_recalls_list = []\n",
    "val_recalls_list = []\n",
    "for i in test_recalls:\n",
    "    if steps_check_test < model.epochs:   \n",
    "        test_item = [i] * steps_check_test\n",
    "    else:\n",
    "        test_item = [i] *  model.epochs\n",
    "    test_recalls_list.extend(test_item) \n",
    "\n",
    "for i in val_recalls:\n",
    "    if steps_check_val < model.epochs:   \n",
    "        val_item = [i] * steps_check_val\n",
    "    else:\n",
    "        val_item = [i] *  model.epochs\n",
    "    val_recalls_list.extend(val_item)  \n",
    "\n",
    "epochs = [i for i in range(1,model.epochs+1)]\n",
    "\n",
    "fig, ax = plt.subplots(nrows=1, ncols=1, figsize=(20,10))\n",
    "ax.plot(epochs, train_recalls, color=\"steelblue\", label= 'Train')\n",
    "ax.plot(epochs, val_recalls_list, color=\"lightblue\", ls='dashed', label='Validation')\n",
    "ax.plot(epochs, test_recalls_list, color= \"coral\", ls='dashed', label='Test Mean')\n",
    "ax.set_xticks(epochs)\n",
    "ax.legend(loc=\"lower right\", fontsize=16)\n",
    "ax.set_xlabel(\"Epochs\", fontsize=12)\n",
    "ax.set_ylabel(\"Recall\", fontsize=12)\n",
    "ax.set_title(\"Recall for 20 Epochs\", fontsize=16)\n",
    "plt.show()"
   ]
  },
  {
   "cell_type": "code",
   "execution_count": 406,
   "metadata": {},
   "outputs": [
    {
     "name": "stdout",
     "output_type": "stream",
     "text": [
      "[0.7155172413793104, 0.7155172413793104, 0.7155172413793104]\n",
      "[0.0, 0.0, 0.0]\n",
      "0.0: 580\n"
     ]
    }
   ],
   "source": [
    "print(val_accuracies)\n",
    "print(val_recalls)\n",
    "\n",
    "unique, counts = np.unique(y_predict_val, return_counts=True)\n",
    "\n",
    "# print the unique values and their counts\n",
    "for value, count in zip(unique, counts):\n",
    "    print(f\"{value}: {count}\")"
   ]
  },
  {
   "cell_type": "code",
   "execution_count": 407,
   "metadata": {},
   "outputs": [
    {
     "data": {
      "text/plain": [
       "<sklearn.metrics._plot.confusion_matrix.ConfusionMatrixDisplay at 0x7ff5a8f1ea30>"
      ]
     },
     "execution_count": 407,
     "metadata": {},
     "output_type": "execute_result"
    },
    {
     "data": {
      "image/png": "[encoded data removed]",
      "text/plain": [
       "<Figure size 432x288 with 2 Axes>"
      ]
     },
     "metadata": {
      "needs_background": "light"
     },
     "output_type": "display_data"
    }
   ],
   "source": [
    "#Confusion matrix\n",
    "# Calculate the confusion matrix using the accumulated true labels and predictions\n",
    "cm = confusion_matrix(y_true_test, y_predict_test)\n",
    "\n",
    "# Visualize the confusion matrix\n",
    "disp = ConfusionMatrixDisplay(confusion_matrix=cm, display_labels=[\"Pneumonia\", \"Normal\"])\n",
    "disp.plot()"
   ]
  }
 ],
 "metadata": {
  "kernelspec": {
   "display_name": "Python 3.8.10 64-bit",
   "language": "python",
   "name": "python3"
  },
  "language_info": {
   "codemirror_mode": {
    "name": "ipython",
    "version": 3
   },
   "file_extension": ".py",
   "mimetype": "text/x-python",
   "name": "python",
   "nbconvert_exporter": "python",
   "pygments_lexer": "ipython3",
   "version": "3.8.10"
  },
  "orig_nbformat": 4,
  "vscode": {
   "interpreter": {
    "hash": "916dbcbb3f70747c44a77c7bcd40155683ae19c65e1c03b4aa3499c5328201f1"
   }
  }
 },
 "nbformat": 4,
 "nbformat_minor": 2
}
