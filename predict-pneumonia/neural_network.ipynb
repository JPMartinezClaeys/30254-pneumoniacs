{
 "cells": [
  {
   "attachments": {},
   "cell_type": "markdown",
   "metadata": {},
   "source": [
    "## Neural Network\n",
    "\n",
    "This jupyter notebook implements the neural network model using convolutional layers"
   ]
  },
  {
   "cell_type": "code",
   "execution_count": null,
   "metadata": {},
   "outputs": [],
   "source": [
    "#Import libraries\n",
    "from torchvision.io import read_image\n",
    "from torch.utils.data import DataLoader\n",
    "import torchvision.transforms as T\n",
    "import torch \n",
    "import torch.nn as nn # basic building block for neural neteorks\n",
    "import torch.nn.functional as F # import convolution functions like Relu\n",
    "import torch.optim as optim # optimzer\n",
    "import os\n",
    "from sklearn.metrics import recall_score, accuracy_score, f1_score\n",
    "import numpy as np\n",
    "from XRayDataset import XRayDataset\n",
    "from dataloader import train_path, test_path, val_path\n",
    "import matplotlib.pylab as plt\n",
    "%matplotlib inline"
   ]
  },
  {
   "cell_type": "code",
   "execution_count": null,
   "metadata": {},
   "outputs": [],
   "source": [
    "class CustomNeuralNetwork(nn.Module):\n",
    "    def __init__(self):\n",
    "        super().__init__()\n",
    "        \n",
    "        self.LeNet = nn.Sequential(     \n",
    "            # convolutional layers            \n",
    "            nn.Sequential(                                            # FIRST LAYER: (INPUT LAYER)\n",
    "              nn.Conv2d(1, 6, kernel_size=3, stride=1, padding=0),    # CONVOLUTION \n",
    "              nn.BatchNorm2d(6),\n",
    "              nn.ReLU(),\n",
    "              nn.MaxPool2d(kernel_size=2, stride=2)),                 # POOLING\n",
    "            nn.Sequential(                                            # SECOND LAYER: HIDDEN LAYER 1\n",
    "              nn.Conv2d(6, 16, kernel_size=3, stride=1, padding=0),   # CONVOLUTION \n",
    "              nn.BatchNorm2d(16),\n",
    "              nn.ReLU(),\n",
    "              nn.MaxPool2d(kernel_size=2, stride=2)),                 # POOLING\n",
    "            # fully connected layers\n",
    "            nn.Flatten(),\n",
    "            nn.Linear(16 * 125 * 125, 400),                            # THIRD LAYER: LINEAR YEAR, HIDDEN LAYER 2\n",
    "            nn.ReLU(),                                                # HIDDEN LAYER's ACTIVATION FUNCION\n",
    "            nn.Linear(400, 10),                                   # OUTPUT LAYER                          # THIRD LAYER: LINEAR YEAR, HIDDEN LAYER 2\n",
    "            # nn.Sigmoid(),                                                # HIDDEN LAYER's ACTIVATION FUNCION\n",
    "            nn.Linear(10, 2),\n",
    "            nn.Sigmoid()              \n",
    "        )\n",
    "\n",
    "    def forward(self, x):\n",
    "        out = self.LeNet(x)\n",
    "        return out\n",
    "\n"
   ]
  },
  {
   "cell_type": "code",
   "execution_count": 35,
   "metadata": {},
   "outputs": [],
   "source": [
    "model = CustomNeuralNetwork()"
   ]
  },
  {
   "cell_type": "code",
   "execution_count": 36,
   "metadata": {},
   "outputs": [],
   "source": [
    "#Dataloader code from Checkpoint #1\n",
    "\n",
    "resize = T.Compose([\n",
    "            T.ToPILImage(), \n",
    "            T.Grayscale(num_output_channels=1),\n",
    "            T.Resize((int(512), int(512))), # Resize the image to match median ratio using median length, we can try later with smaller length \n",
    "            T.ToTensor()\n",
    "        ])\n",
    " \n",
    "transforms = T.Compose([\n",
    "            T.ToPILImage(), \n",
    "            T.Grayscale(num_output_channels=1),\n",
    "            T.RandomAdjustSharpness(sharpness_factor=10),\n",
    "            T.ColorJitter(brightness=.5, hue=.3),\n",
    "            T.Resize((int(512), int(512))),\n",
    "            # Resize the image to match median ratio using median length \n",
    "            T.ToTensor()\n",
    "        ])\n",
    "training_data = XRayDataset(train_path, transforms)\n",
    "val_data = XRayDataset(val_path, resize)\n",
    "test_data = XRayDataset(test_path, resize)\n",
    "\n",
    "#Discussion with Ian said to start with small batches (2,4)\n",
    "#Medium post said do powers of 2 starting with 16 \n",
    "#I'll go with middle point and do batch = 8\n",
    "#https://medium.com/data-science-365/determining-the-right-batch-size-for-a-neural-network-to-get-better-and-faster-results-7a8662830f15\n",
    "\n",
    "batch_s = 64\n",
    "\n",
    "train_dataloader = DataLoader(training_data, batch_size=batch_s, shuffle=True)\n",
    "val_dataloader = DataLoader(val_data, batch_size=batch_s, shuffle=True)\n",
    "test_dataloader = DataLoader(test_data, batch_size=batch_s, shuffle=True)\n"
   ]
  },
  {
   "cell_type": "code",
   "execution_count": 37,
   "metadata": {},
   "outputs": [],
   "source": [
    "# 3: Define a Loss function and optimizer\n",
    "criterion = nn.CrossEntropyLoss() #a.Change the cross entropy of the original code to NLL \n",
    "#which we have used before for binary classification\n",
    "#b. \n",
    "optimizer = optim.SGD(model.parameters(), lr=0.001, momentum=0.9)"
   ]
  },
  {
   "cell_type": "code",
   "execution_count": 14,
   "metadata": {},
   "outputs": [],
   "source": [
    "def train(model):\n",
    "    # 4: Train and validate the network\n",
    "    EPOCHS = 3\n",
    "    train_losses = []\n",
    "    train_accuracies = []\n",
    "    train_recalls = []\n",
    "    for _ in range(EPOCHS):\n",
    "        # TRAIN\n",
    "        model.train()  # Make sure gradient tracking is on, and do a pass over the data\n",
    "        running_loss = 0.0\n",
    "        y_true = np.array([])\n",
    "        y_predict = np.array([])\n",
    "        for i, data in enumerate(train_dataloader):\n",
    "            # get the inputs; data is a list of [inputs, labels]\n",
    "            inputs, labels = data\n",
    "            optimizer.zero_grad()  # zero the parameter gradients\n",
    "            outputs = model(inputs)  # forward pass\n",
    "            label_dict = {\"PNEUMONIA\": 0, \"NORMAL\": 1}\n",
    "            labels_tensor = torch.tensor([label_dict[label] for label in labels])\n",
    "            loss = criterion(outputs, labels_tensor)  # calculate loss\n",
    "            loss.backward()  # backward pass\n",
    "            optimizer.step()  # update weights\n",
    "            running_loss += loss.item()\n",
    "            y_true = np.concatenate((y_true, labels_tensor.numpy()))\n",
    "            y_pred_batch = np.argmax(outputs.detach().numpy(), axis=1)\n",
    "            y_predict = np.concatenate((y_predict, y_pred_batch))\n",
    "        \n",
    "        epoch_accuracy = (y_predict == y_true).mean()\n",
    "        epoch_recall = recall_score(y_true, y_predict, average='binary')\n",
    "        train_losses.append(running_loss)\n",
    "        train_accuracies.append(epoch_accuracy)\n",
    "        train_recalls.append(epoch_recall)\n",
    "\n",
    "    return y_predict, y_true, train_losses, train_accuracies, train_recalls"
   ]
  },
  {
   "cell_type": "code",
   "execution_count": 8,
   "metadata": {},
   "outputs": [
    {
     "ename": "KeyboardInterrupt",
     "evalue": "",
     "output_type": "error",
     "traceback": [
      "\u001b[0;31m---------------------------------------------------------------------------\u001b[0m",
      "\u001b[0;31mKeyboardInterrupt\u001b[0m                         Traceback (most recent call last)",
      "Cell \u001b[0;32mIn[8], line 1\u001b[0m\n\u001b[0;32m----> 1\u001b[0m y_predict, y_true, train_losses, train_accuracies, train_recalls \u001b[38;5;241m=\u001b[39m \u001b[43mtrain\u001b[49m\u001b[43m(\u001b[49m\u001b[43mmodel\u001b[49m\u001b[43m)\u001b[49m\n\u001b[1;32m      3\u001b[0m \u001b[38;5;28mprint\u001b[39m(\u001b[38;5;124m\"\u001b[39m\u001b[38;5;124my_predict\u001b[39m\u001b[38;5;124m\"\u001b[39m, y_predict)\n\u001b[1;32m      4\u001b[0m \u001b[38;5;28mprint\u001b[39m(\u001b[38;5;124m\"\u001b[39m\u001b[38;5;124my_true\u001b[39m\u001b[38;5;124m\"\u001b[39m, y_true)\n",
      "Cell \u001b[0;32mIn[7], line 21\u001b[0m, in \u001b[0;36mtrain\u001b[0;34m(model)\u001b[0m\n\u001b[1;32m     19\u001b[0m labels_tensor \u001b[38;5;241m=\u001b[39m torch\u001b[38;5;241m.\u001b[39mtensor([label_dict[label] \u001b[38;5;28;01mfor\u001b[39;00m label \u001b[38;5;129;01min\u001b[39;00m labels])\n\u001b[1;32m     20\u001b[0m loss \u001b[38;5;241m=\u001b[39m criterion(outputs, labels_tensor)  \u001b[38;5;66;03m# calculate loss\u001b[39;00m\n\u001b[0;32m---> 21\u001b[0m \u001b[43mloss\u001b[49m\u001b[38;5;241;43m.\u001b[39;49m\u001b[43mbackward\u001b[49m\u001b[43m(\u001b[49m\u001b[43m)\u001b[49m  \u001b[38;5;66;03m# backward pass\u001b[39;00m\n\u001b[1;32m     22\u001b[0m optimizer\u001b[38;5;241m.\u001b[39mstep()  \u001b[38;5;66;03m# update weights\u001b[39;00m\n\u001b[1;32m     23\u001b[0m running_loss \u001b[38;5;241m+\u001b[39m\u001b[38;5;241m=\u001b[39m loss\u001b[38;5;241m.\u001b[39mitem()\n",
      "File \u001b[0;32m~/.local/lib/python3.8/site-packages/torch/_tensor.py:487\u001b[0m, in \u001b[0;36mTensor.backward\u001b[0;34m(self, gradient, retain_graph, create_graph, inputs)\u001b[0m\n\u001b[1;32m    477\u001b[0m \u001b[39mif\u001b[39;00m has_torch_function_unary(\u001b[39mself\u001b[39m):\n\u001b[1;32m    478\u001b[0m     \u001b[39mreturn\u001b[39;00m handle_torch_function(\n\u001b[1;32m    479\u001b[0m         Tensor\u001b[39m.\u001b[39mbackward,\n\u001b[1;32m    480\u001b[0m         (\u001b[39mself\u001b[39m,),\n\u001b[0;32m   (...)\u001b[0m\n\u001b[1;32m    485\u001b[0m         inputs\u001b[39m=\u001b[39minputs,\n\u001b[1;32m    486\u001b[0m     )\n\u001b[0;32m--> 487\u001b[0m torch\u001b[39m.\u001b[39;49mautograd\u001b[39m.\u001b[39;49mbackward(\n\u001b[1;32m    488\u001b[0m     \u001b[39mself\u001b[39;49m, gradient, retain_graph, create_graph, inputs\u001b[39m=\u001b[39;49minputs\n\u001b[1;32m    489\u001b[0m )\n",
      "File \u001b[0;32m~/.local/lib/python3.8/site-packages/torch/autograd/__init__.py:200\u001b[0m, in \u001b[0;36mbackward\u001b[0;34m(tensors, grad_tensors, retain_graph, create_graph, grad_variables, inputs)\u001b[0m\n\u001b[1;32m    195\u001b[0m     retain_graph \u001b[39m=\u001b[39m create_graph\n\u001b[1;32m    197\u001b[0m \u001b[39m# The reason we repeat same the comment below is that\u001b[39;00m\n\u001b[1;32m    198\u001b[0m \u001b[39m# some Python versions print out the first line of a multi-line function\u001b[39;00m\n\u001b[1;32m    199\u001b[0m \u001b[39m# calls in the traceback and some print out the last line\u001b[39;00m\n\u001b[0;32m--> 200\u001b[0m Variable\u001b[39m.\u001b[39;49m_execution_engine\u001b[39m.\u001b[39;49mrun_backward(  \u001b[39m# Calls into the C++ engine to run the backward pass\u001b[39;49;00m\n\u001b[1;32m    201\u001b[0m     tensors, grad_tensors_, retain_graph, create_graph, inputs,\n\u001b[1;32m    202\u001b[0m     allow_unreachable\u001b[39m=\u001b[39;49m\u001b[39mTrue\u001b[39;49;00m, accumulate_grad\u001b[39m=\u001b[39;49m\u001b[39mTrue\u001b[39;49;00m)\n",
      "\u001b[0;31mKeyboardInterrupt\u001b[0m: "
     ]
    }
   ],
   "source": [
    "y_predict, y_true, train_losses, train_accuracies, train_recalls = train(model)\n",
    "\n",
    "print(\"y_predict\", y_predict)\n",
    "print(\"y_true\", y_true)\n",
    "print(train_losses)\n",
    "print(train_accuracies)\n",
    "print(train_recalls)"
   ]
  },
  {
   "cell_type": "code",
   "execution_count": 13,
   "metadata": {},
   "outputs": [],
   "source": [
    "def validate(model): \n",
    "    # 4: Train and validate the network\n",
    "    EPOCHS = 3\n",
    "    val_losses = []\n",
    "    val_accuracies = []\n",
    "    val_recalls = []\n",
    "    for _ in range(EPOCHS):\n",
    "        # VAL\n",
    "        model.eval()  # # we don't want to keep track of the gradients in the validation part\n",
    "        val_running_loss = 0.0\n",
    "        y_true_val = np.array([])\n",
    "        y_predict_val = np.array([])\n",
    "        for i, data in enumerate(val_dataloader):\n",
    "            # get the inputs; data is a list of [inputs, labels]\n",
    "            inputs, labels = data\n",
    "            optimizer.zero_grad()  # zero the parameter gradients\n",
    "            outputs = model(inputs)  # forward pass\n",
    "            label_dict = {\"PNEUMONIA\": 0, \"NORMAL\": 1}\n",
    "            labels_tensor = torch.tensor([label_dict[label] for label in labels])\n",
    "            loss = criterion(outputs, labels_tensor)  # calculate loss\n",
    "            loss.backward()  # backward pass\n",
    "            optimizer.step()  # update weights\n",
    "            val_running_loss += loss.item()\n",
    "            y_true_val = np.concatenate((y_true_val, labels_tensor.numpy()))\n",
    "            y_predict_val = np.concatenate((y_predict_val, outputs.argmax(dim=1).numpy()))\n",
    "\n",
    "        val_epoch_accuracy = (y_predict_val == y_true_val).mean()\n",
    "        val_epoch_recall = recall_score(y_true_val, y_predict_val, average='binary')\n",
    "        val_losses.append(val_running_loss)\n",
    "        val_accuracies.append(val_epoch_accuracy)\n",
    "        val_recalls.append(val_epoch_recall)\n",
    "\n",
    "    return val_accuracies, val_losses, val_recalls, y_predict_val"
   ]
  },
  {
   "cell_type": "code",
   "execution_count": 18,
   "metadata": {},
   "outputs": [
    {
     "name": "stdout",
     "output_type": "stream",
     "text": [
      "[0.625, 0.5, 0.5]\n",
      "[0.6163926124572754, 0.5717027187347412, 0.5718189477920532]\n",
      "[0.25, 0.0, 0.0]\n",
      "0.0: 16\n"
     ]
    }
   ],
   "source": [
    "val_accuracies, val_losses, val_recalls, y_predict_val = validate(model)\n",
    "\n",
    "print(val_accuracies)\n",
    "print(val_losses)\n",
    "print(val_recalls)\n",
    "\n",
    "unique, counts = np.unique(y_predict_val, return_counts=True)\n",
    "\n",
    "# print the unique values and their counts\n",
    "for value, count in zip(unique, counts):\n",
    "    print(f\"{value}: {count}\")"
   ]
  },
  {
   "cell_type": "code",
   "execution_count": 15,
   "metadata": {},
   "outputs": [],
   "source": [
    "def test(model):\n",
    "    #5. Test model\n",
    "    EPOCHS = 1\n",
    "    test_losses = []\n",
    "    test_accuracies = []\n",
    "    test_recalls = []\n",
    "    with torch.no_grad():\n",
    "        for _ in range(EPOCHS):\n",
    "            # TEST\n",
    "            model.train()  # Make sure gradient tracking is on, and do a pass over the data\n",
    "            test_running_loss = 0.0\n",
    "            y_true_test = np.array([])\n",
    "            y_predict_test = np.array([])\n",
    "            for i, data in enumerate(test_dataloader):\n",
    "                # get the inputs; data is a list of [inputs, labels]\n",
    "                inputs, labels = data\n",
    "                optimizer.zero_grad()  # zero the parameter gradients\n",
    "                outputs = model(inputs)  # forward pass\n",
    "                # print(\"OUTPUTS: \", outputs)\n",
    "                label_dict = {\"PNEUMONIA\": 0, \"NORMAL\": 1}\n",
    "                labels_tensor = torch.tensor([label_dict[label] for label in labels])\n",
    "                loss = criterion(outputs, labels_tensor)  # calculate loss\n",
    "                optimizer.step()  # update weights\n",
    "                test_running_loss += loss.item()\n",
    "                y_true_test = np.concatenate((y_true_test, labels_tensor.numpy()))\n",
    "                y_predict_test = np.concatenate((y_predict_test, outputs.argmax(dim=1).numpy()))\n",
    "\n",
    "            test_epoch_accuracy = (y_predict_test == y_true_test).mean()\n",
    "            test_epoch_recall = recall_score(y_true_test, y_predict_test, average='binary')\n",
    "            test_losses.append(test_running_loss)\n",
    "            test_accuracies.append(test_epoch_accuracy)\n",
    "            test_recalls.append(test_epoch_recall)\n",
    "  \n",
    "    return test_accuracies, test_losses, test_recalls, y_predict_test"
   ]
  },
  {
   "cell_type": "code",
   "execution_count": 17,
   "metadata": {},
   "outputs": [
    {
     "name": "stdout",
     "output_type": "stream",
     "text": [
      "[0.7067307692307693]\n",
      "[5.464296460151672]\n",
      "[0.2222222222222222]\n",
      "0.0: 571\n",
      "1.0: 53\n"
     ]
    }
   ],
   "source": [
    "test_accuracies, test_losses, test_recalls, y_predict_test = test(model)\n",
    "\n",
    "print(test_accuracies)\n",
    "print(test_losses)\n",
    "print(test_recalls)\n",
    "\n",
    "unique, counts = np.unique(y_predict_test, return_counts=True)\n",
    "\n",
    "# print the unique values and their counts\n",
    "for value, count in zip(unique, counts):\n",
    "    print(f\"{value}: {count}\")\n"
   ]
  },
  {
   "cell_type": "code",
   "execution_count": 38,
   "metadata": {},
   "outputs": [
    {
     "ename": "KeyboardInterrupt",
     "evalue": "",
     "output_type": "error",
     "traceback": [
      "\u001b[0;31m---------------------------------------------------------------------------\u001b[0m",
      "\u001b[0;31mKeyboardInterrupt\u001b[0m                         Traceback (most recent call last)",
      "Cell \u001b[0;32mIn[38], line 4\u001b[0m\n\u001b[1;32m      1\u001b[0m EPOCHS \u001b[38;5;241m=\u001b[39m \u001b[38;5;241m3\u001b[39m \u001b[38;5;66;03m# get rid of test data\u001b[39;00m\n\u001b[1;32m      2\u001b[0m epochs \u001b[38;5;241m=\u001b[39m [i \u001b[38;5;28;01mfor\u001b[39;00m i \u001b[38;5;129;01min\u001b[39;00m \u001b[38;5;28mrange\u001b[39m(\u001b[38;5;241m1\u001b[39m,EPOCHS\u001b[38;5;241m+\u001b[39m\u001b[38;5;241m1\u001b[39m)]\n\u001b[0;32m----> 4\u001b[0m y_predict, y_true, train_losses, train_accuracies, train_recalls \u001b[38;5;241m=\u001b[39m \u001b[43mtrain\u001b[49m\u001b[43m(\u001b[49m\u001b[43mmodel\u001b[49m\u001b[43m)\u001b[49m\n\u001b[1;32m      5\u001b[0m val_accuracies, val_losses, val_recalls, y_predict_val \u001b[38;5;241m=\u001b[39m validate(model)\n\u001b[1;32m      7\u001b[0m fig, ax \u001b[38;5;241m=\u001b[39m plt\u001b[38;5;241m.\u001b[39msubplots(nrows\u001b[38;5;241m=\u001b[39m\u001b[38;5;241m1\u001b[39m, ncols\u001b[38;5;241m=\u001b[39m\u001b[38;5;241m1\u001b[39m, figsize\u001b[38;5;241m=\u001b[39m(\u001b[38;5;241m20\u001b[39m,\u001b[38;5;241m10\u001b[39m))\n",
      "Cell \u001b[0;32mIn[14], line 13\u001b[0m, in \u001b[0;36mtrain\u001b[0;34m(model)\u001b[0m\n\u001b[1;32m     11\u001b[0m y_true \u001b[38;5;241m=\u001b[39m np\u001b[38;5;241m.\u001b[39marray([])\n\u001b[1;32m     12\u001b[0m y_predict \u001b[38;5;241m=\u001b[39m np\u001b[38;5;241m.\u001b[39marray([])\n\u001b[0;32m---> 13\u001b[0m \u001b[38;5;28;01mfor\u001b[39;00m i, data \u001b[38;5;129;01min\u001b[39;00m \u001b[38;5;28menumerate\u001b[39m(train_dataloader):\n\u001b[1;32m     14\u001b[0m     \u001b[38;5;66;03m# get the inputs; data is a list of [inputs, labels]\u001b[39;00m\n\u001b[1;32m     15\u001b[0m     inputs, labels \u001b[38;5;241m=\u001b[39m data\n\u001b[1;32m     16\u001b[0m     optimizer\u001b[38;5;241m.\u001b[39mzero_grad()  \u001b[38;5;66;03m# zero the parameter gradients\u001b[39;00m\n",
      "File \u001b[0;32m~/.local/lib/python3.8/site-packages/torch/utils/data/dataloader.py:634\u001b[0m, in \u001b[0;36m_BaseDataLoaderIter.__next__\u001b[0;34m(self)\u001b[0m\n\u001b[1;32m    631\u001b[0m \u001b[39mif\u001b[39;00m \u001b[39mself\u001b[39m\u001b[39m.\u001b[39m_sampler_iter \u001b[39mis\u001b[39;00m \u001b[39mNone\u001b[39;00m:\n\u001b[1;32m    632\u001b[0m     \u001b[39m# TODO(https://github.com/pytorch/pytorch/issues/76750)\u001b[39;00m\n\u001b[1;32m    633\u001b[0m     \u001b[39mself\u001b[39m\u001b[39m.\u001b[39m_reset()  \u001b[39m# type: ignore[call-arg]\u001b[39;00m\n\u001b[0;32m--> 634\u001b[0m data \u001b[39m=\u001b[39m \u001b[39mself\u001b[39;49m\u001b[39m.\u001b[39;49m_next_data()\n\u001b[1;32m    635\u001b[0m \u001b[39mself\u001b[39m\u001b[39m.\u001b[39m_num_yielded \u001b[39m+\u001b[39m\u001b[39m=\u001b[39m \u001b[39m1\u001b[39m\n\u001b[1;32m    636\u001b[0m \u001b[39mif\u001b[39;00m \u001b[39mself\u001b[39m\u001b[39m.\u001b[39m_dataset_kind \u001b[39m==\u001b[39m _DatasetKind\u001b[39m.\u001b[39mIterable \u001b[39mand\u001b[39;00m \\\n\u001b[1;32m    637\u001b[0m         \u001b[39mself\u001b[39m\u001b[39m.\u001b[39m_IterableDataset_len_called \u001b[39mis\u001b[39;00m \u001b[39mnot\u001b[39;00m \u001b[39mNone\u001b[39;00m \u001b[39mand\u001b[39;00m \\\n\u001b[1;32m    638\u001b[0m         \u001b[39mself\u001b[39m\u001b[39m.\u001b[39m_num_yielded \u001b[39m>\u001b[39m \u001b[39mself\u001b[39m\u001b[39m.\u001b[39m_IterableDataset_len_called:\n",
      "File \u001b[0;32m~/.local/lib/python3.8/site-packages/torch/utils/data/dataloader.py:678\u001b[0m, in \u001b[0;36m_SingleProcessDataLoaderIter._next_data\u001b[0;34m(self)\u001b[0m\n\u001b[1;32m    676\u001b[0m \u001b[39mdef\u001b[39;00m \u001b[39m_next_data\u001b[39m(\u001b[39mself\u001b[39m):\n\u001b[1;32m    677\u001b[0m     index \u001b[39m=\u001b[39m \u001b[39mself\u001b[39m\u001b[39m.\u001b[39m_next_index()  \u001b[39m# may raise StopIteration\u001b[39;00m\n\u001b[0;32m--> 678\u001b[0m     data \u001b[39m=\u001b[39m \u001b[39mself\u001b[39;49m\u001b[39m.\u001b[39;49m_dataset_fetcher\u001b[39m.\u001b[39;49mfetch(index)  \u001b[39m# may raise StopIteration\u001b[39;00m\n\u001b[1;32m    679\u001b[0m     \u001b[39mif\u001b[39;00m \u001b[39mself\u001b[39m\u001b[39m.\u001b[39m_pin_memory:\n\u001b[1;32m    680\u001b[0m         data \u001b[39m=\u001b[39m _utils\u001b[39m.\u001b[39mpin_memory\u001b[39m.\u001b[39mpin_memory(data, \u001b[39mself\u001b[39m\u001b[39m.\u001b[39m_pin_memory_device)\n",
      "File \u001b[0;32m~/.local/lib/python3.8/site-packages/torch/utils/data/_utils/fetch.py:51\u001b[0m, in \u001b[0;36m_MapDatasetFetcher.fetch\u001b[0;34m(self, possibly_batched_index)\u001b[0m\n\u001b[1;32m     49\u001b[0m         data \u001b[39m=\u001b[39m \u001b[39mself\u001b[39m\u001b[39m.\u001b[39mdataset\u001b[39m.\u001b[39m__getitems__(possibly_batched_index)\n\u001b[1;32m     50\u001b[0m     \u001b[39melse\u001b[39;00m:\n\u001b[0;32m---> 51\u001b[0m         data \u001b[39m=\u001b[39m [\u001b[39mself\u001b[39m\u001b[39m.\u001b[39mdataset[idx] \u001b[39mfor\u001b[39;00m idx \u001b[39min\u001b[39;00m possibly_batched_index]\n\u001b[1;32m     52\u001b[0m \u001b[39melse\u001b[39;00m:\n\u001b[1;32m     53\u001b[0m     data \u001b[39m=\u001b[39m \u001b[39mself\u001b[39m\u001b[39m.\u001b[39mdataset[possibly_batched_index]\n",
      "File \u001b[0;32m~/.local/lib/python3.8/site-packages/torch/utils/data/_utils/fetch.py:51\u001b[0m, in \u001b[0;36m<listcomp>\u001b[0;34m(.0)\u001b[0m\n\u001b[1;32m     49\u001b[0m         data \u001b[39m=\u001b[39m \u001b[39mself\u001b[39m\u001b[39m.\u001b[39mdataset\u001b[39m.\u001b[39m__getitems__(possibly_batched_index)\n\u001b[1;32m     50\u001b[0m     \u001b[39melse\u001b[39;00m:\n\u001b[0;32m---> 51\u001b[0m         data \u001b[39m=\u001b[39m [\u001b[39mself\u001b[39;49m\u001b[39m.\u001b[39;49mdataset[idx] \u001b[39mfor\u001b[39;00m idx \u001b[39min\u001b[39;00m possibly_batched_index]\n\u001b[1;32m     52\u001b[0m \u001b[39melse\u001b[39;00m:\n\u001b[1;32m     53\u001b[0m     data \u001b[39m=\u001b[39m \u001b[39mself\u001b[39m\u001b[39m.\u001b[39mdataset[possibly_batched_index]\n",
      "File \u001b[0;32m~/30254-pneumoniacs/predict-pneumonia/XRayDataset.py:52\u001b[0m, in \u001b[0;36mXRayDataset.__getitem__\u001b[0;34m(self, idx)\u001b[0m\n\u001b[1;32m     50\u001b[0m row \u001b[39m=\u001b[39m \u001b[39mself\u001b[39m\u001b[39m.\u001b[39mdata\u001b[39m.\u001b[39miloc[idx]\n\u001b[1;32m     51\u001b[0m label \u001b[39m=\u001b[39m row[\u001b[39m'\u001b[39m\u001b[39mlabel\u001b[39m\u001b[39m'\u001b[39m]\n\u001b[0;32m---> 52\u001b[0m image \u001b[39m=\u001b[39m read_image(row[\u001b[39m'\u001b[39;49m\u001b[39mfilename\u001b[39;49m\u001b[39m'\u001b[39;49m]) \u001b[39m#Change to torchivision read_image\u001b[39;00m\n\u001b[1;32m     54\u001b[0m \u001b[39mif\u001b[39;00m \u001b[39mself\u001b[39m\u001b[39m.\u001b[39mtransform:\n\u001b[1;32m     55\u001b[0m     image \u001b[39m=\u001b[39m \u001b[39mself\u001b[39m\u001b[39m.\u001b[39mtransform(image)\n",
      "File \u001b[0;32m~/.local/lib/python3.8/site-packages/torchvision/io/image.py:259\u001b[0m, in \u001b[0;36mread_image\u001b[0;34m(path, mode)\u001b[0m\n\u001b[1;32m    257\u001b[0m     _log_api_usage_once(read_image)\n\u001b[1;32m    258\u001b[0m data \u001b[39m=\u001b[39m read_file(path)\n\u001b[0;32m--> 259\u001b[0m \u001b[39mreturn\u001b[39;00m decode_image(data, mode)\n",
      "File \u001b[0;32m~/.local/lib/python3.8/site-packages/torchvision/io/image.py:236\u001b[0m, in \u001b[0;36mdecode_image\u001b[0;34m(input, mode)\u001b[0m\n\u001b[1;32m    234\u001b[0m \u001b[39mif\u001b[39;00m \u001b[39mnot\u001b[39;00m torch\u001b[39m.\u001b[39mjit\u001b[39m.\u001b[39mis_scripting() \u001b[39mand\u001b[39;00m \u001b[39mnot\u001b[39;00m torch\u001b[39m.\u001b[39mjit\u001b[39m.\u001b[39mis_tracing():\n\u001b[1;32m    235\u001b[0m     _log_api_usage_once(decode_image)\n\u001b[0;32m--> 236\u001b[0m output \u001b[39m=\u001b[39m torch\u001b[39m.\u001b[39;49mops\u001b[39m.\u001b[39;49mimage\u001b[39m.\u001b[39;49mdecode_image(\u001b[39minput\u001b[39;49m, mode\u001b[39m.\u001b[39;49mvalue)\n\u001b[1;32m    237\u001b[0m \u001b[39mreturn\u001b[39;00m output\n",
      "File \u001b[0;32m~/.local/lib/python3.8/site-packages/torch/_ops.py:502\u001b[0m, in \u001b[0;36mOpOverloadPacket.__call__\u001b[0;34m(self, *args, **kwargs)\u001b[0m\n\u001b[1;32m    497\u001b[0m \u001b[39mdef\u001b[39;00m \u001b[39m__call__\u001b[39m(\u001b[39mself\u001b[39m, \u001b[39m*\u001b[39margs, \u001b[39m*\u001b[39m\u001b[39m*\u001b[39mkwargs):\n\u001b[1;32m    498\u001b[0m     \u001b[39m# overloading __call__ to ensure torch.ops.foo.bar()\u001b[39;00m\n\u001b[1;32m    499\u001b[0m     \u001b[39m# is still callable from JIT\u001b[39;00m\n\u001b[1;32m    500\u001b[0m     \u001b[39m# We save the function ptr as the `op` attribute on\u001b[39;00m\n\u001b[1;32m    501\u001b[0m     \u001b[39m# OpOverloadPacket to access it here.\u001b[39;00m\n\u001b[0;32m--> 502\u001b[0m     \u001b[39mreturn\u001b[39;00m \u001b[39mself\u001b[39;49m\u001b[39m.\u001b[39;49m_op(\u001b[39m*\u001b[39;49margs, \u001b[39m*\u001b[39;49m\u001b[39m*\u001b[39;49mkwargs \u001b[39mor\u001b[39;49;00m {})\n",
      "\u001b[0;31mKeyboardInterrupt\u001b[0m: "
     ]
    }
   ],
   "source": [
    "EPOCHS = 3 # get rid of test data\n",
    "epochs = [i for i in range(1,EPOCHS+1)]\n",
    "\n",
    "y_predict, y_true, train_losses, train_accuracies, train_recalls = train(model)\n",
    "val_accuracies, val_losses, val_recalls, y_predict_val = validate(model)\n",
    "\n",
    "fig, ax = plt.subplots(nrows=1, ncols=1, figsize=(20,10))\n",
    "ax.plot(epochs, train_accuracies, color=\"steelblue\", label= 'Train')\n",
    "ax.plot(epochs, val_accuracies, color=\"lightblue\", ls='dashed', label='Validation')\n",
    "ax.set_xticks(epochs)\n",
    "ax.legend(loc=\"lower right\", fontsize=16)\n",
    "ax.set_xlabel(\"Epochs\", fontsize=12)\n",
    "ax.set_ylabel(\"Accuracy\", fontsize=12)\n",
    "ax.set_title(\"Cross Entropy Accuracy\", fontsize=16)\n",
    "plt.show()"
   ]
  },
  {
   "cell_type": "code",
   "execution_count": 48,
   "metadata": {
    "notebookRunGroups": {
     "groupValue": "1"
    }
   },
   "outputs": [
    {
     "data": {
      "image/png": "[encoded data removed]",
      "text/plain": [
       "<Figure size 2000x1000 with 1 Axes>"
      ]
     },
     "metadata": {},
     "output_type": "display_data"
    }
   ],
   "source": [
    "fig, ax = plt.subplots(nrows=1, ncols=1, figsize=(20,10))\n",
    "x = np.array([1, 2, 3])\n",
    "colors = [\"steelblue\", \"blue\"]\n",
    "\n",
    "for i, val in enumerate([1, 2]):\n",
    "    y = x*val\n",
    "    ax.plot(x, y, color= colors[i], label=val)\n",
    "\n",
    "\n",
    "plt.show()"
   ]
  },
  {
   "cell_type": "code",
   "execution_count": 31,
   "metadata": {},
   "outputs": [],
   "source": [
    "# training plots with different loss functions\n",
    "\n",
    "# for loss in [nn.CrossEntropyLoss(), nn.HingeEmbeddingLoss]:\n",
    "# # 3: Define a Loss function and optimizer\n",
    "#     criterion = loss\n",
    "# #a.Change the cross entropy of the original code to NLL \n",
    "# #which we have used before for binary classification\n",
    "# #b. \n",
    "#     optimizer = optim.SGD(model.parameters(), lr=0.001, momentum=0.9)\n",
    "#     # y_predict, y_true, train_losses, train_accuracies, train_recalls = train(model)\n",
    "#     test =  [test, test, test]\n",
    "#     print('accuracy_{}'.format(loss))\n",
    "\n",
    "\n",
    "    "
   ]
  }
 ],
 "metadata": {
  "kernelspec": {
   "display_name": "Python 3.8.10 64-bit",
   "language": "python",
   "name": "python3"
  },
  "language_info": {
   "codemirror_mode": {
    "name": "ipython",
    "version": 3
   },
   "file_extension": ".py",
   "mimetype": "text/x-python",
   "name": "python",
   "nbconvert_exporter": "python",
   "pygments_lexer": "ipython3",
   "version": "3.8.10"
  },
  "orig_nbformat": 4,
  "vscode": {
   "interpreter": {
    "hash": "916dbcbb3f70747c44a77c7bcd40155683ae19c65e1c03b4aa3499c5328201f1"
   }
  }
 },
 "nbformat": 4,
 "nbformat_minor": 2
}
