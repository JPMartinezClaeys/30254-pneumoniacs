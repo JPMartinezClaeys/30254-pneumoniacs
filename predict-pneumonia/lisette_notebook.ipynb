{
 "cells": [
  {
   "cell_type": "code",
   "execution_count": 8,
   "metadata": {},
   "outputs": [],
   "source": [
    "import cv2\n",
    "from torch.utils import data\n",
    "from torch.utils.data import Dataset, DataLoader\n",
    "import torchvision.transforms as T\n",
    "import pytorch_lightning as pl\n",
    "\n",
    "import pathlib\n",
    "import pandas as pd"
   ]
  },
  {
   "cell_type": "code",
   "execution_count": 16,
   "metadata": {},
   "outputs": [
    {
     "ename": "NameError",
     "evalue": "name '__file__' is not defined",
     "output_type": "error",
     "traceback": [
      "\u001b[0;31m---------------------------------------------------------------------------\u001b[0m",
      "\u001b[0;31mNameError\u001b[0m                                 Traceback (most recent call last)",
      "Cell \u001b[0;32mIn[16], line 1\u001b[0m\n\u001b[0;32m----> 1\u001b[0m filepath \u001b[38;5;241m=\u001b[39m pathlib\u001b[38;5;241m.\u001b[39mPath(\u001b[38;5;18;43m__file__\u001b[39;49m)\u001b[38;5;241m.\u001b[39mparent\u001b[38;5;241m.\u001b[39mparent\u001b[38;5;241m/\u001b[39m \u001b[38;5;124m\"\u001b[39m\u001b[38;5;124mpredict-pneumonia/data/test/PNEUMONIA/person1_virus_11.jpeg\u001b[39m\u001b[38;5;124m\"\u001b[39m\n\u001b[1;32m      3\u001b[0m \u001b[38;5;28mprint\u001b[39m(filepath)\n",
      "\u001b[0;31mNameError\u001b[0m: name '__file__' is not defined"
     ]
    }
   ],
   "source": [
    "filepath = pathlib.Path(__file__).parent.parent/ \"predict-pneumonia/data/test/PNEUMONIA/person1_virus_11.jpeg\"\n",
    "\n",
    "print(filepath)"
   ]
  },
  {
   "cell_type": "code",
   "execution_count": 15,
   "metadata": {},
   "outputs": [
    {
     "name": "stdout",
     "output_type": "stream",
     "text": [
      "predict-pneumonia/data/test/PNEUMONIA/person1_virus_11.jpeg\n"
     ]
    }
   ],
   "source": [
    "print(\"/predict-pneumonia/data/test/PNEUMONIA/person1_virus_11.jpeg\")"
   ]
  },
  {
   "cell_type": "code",
   "execution_count": 21,
   "metadata": {},
   "outputs": [
    {
     "name": "stderr",
     "output_type": "stream",
     "text": [
      "[ WARN:0@1984.818] global loadsave.cpp:244 findDecoder imread_('lisettesolis/30245-pneumonics/predict-pneumonia/data/test/PNEUMONIA/person1_virus_11.jpeg'): can't open/read file: check file path/integrity\n"
     ]
    }
   ],
   "source": [
    "# using cv2\n",
    "# read in the image\n",
    "\n",
    "img = cv2.imread(\"lisettesolis/30245-pneumonics/predict-pneumonia/data/test/PNEUMONIA/person1_virus_11.jpeg\", cv2.IMREAD_UNCHANGED)"
   ]
  }
 ],
 "metadata": {
  "kernelspec": {
   "display_name": "Python 3.8.10 ('project-protests-6IVedJAL-py3.8')",
   "language": "python",
   "name": "python3"
  },
  "language_info": {
   "codemirror_mode": {
    "name": "ipython",
    "version": 3
   },
   "file_extension": ".py",
   "mimetype": "text/x-python",
   "name": "python",
   "nbconvert_exporter": "python",
   "pygments_lexer": "ipython3",
   "version": "3.8.10"
  },
  "orig_nbformat": 4,
  "vscode": {
   "interpreter": {
    "hash": "0c7af92f1bb78f4e64f476aae1e4f642592d4fedd5bd8a6124e530e6125ed6b0"
   }
  }
 },
 "nbformat": 4,
 "nbformat_minor": 2
}
